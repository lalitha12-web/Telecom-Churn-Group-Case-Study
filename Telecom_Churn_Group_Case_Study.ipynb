{
  "nbformat": 4,
  "nbformat_minor": 0,
  "metadata": {
    "colab": {
      "provenance": [],
      "mount_file_id": "1JJcZgNB4HvBZGEh1LuIrlWKv-Utcgqfy",
      "authorship_tag": "ABX9TyM8KmzbTb+1hwwf9cLZ1P6+",
      "include_colab_link": true
    },
    "kernelspec": {
      "name": "python3",
      "display_name": "Python 3"
    },
    "language_info": {
      "name": "python"
    }
  },
  "cells": [
    {
      "cell_type": "markdown",
      "metadata": {
        "id": "view-in-github",
        "colab_type": "text"
      },
      "source": [
        "<a href=\"https://colab.research.google.com/github/lalitha12-web/Telecom-Churn-Group-Case-Study/blob/main/Telecom_Churn_Group_Case_Study.ipynb\" target=\"_parent\"><img src=\"https://colab.research.google.com/assets/colab-badge.svg\" alt=\"Open In Colab\"/></a>"
      ]
    },
    {
      "cell_type": "code",
      "execution_count": 3,
      "metadata": {
        "id": "Kh118HgeVUl5"
      },
      "outputs": [],
      "source": [
        "#Data Structures\n",
        "import pandas as pd\n",
        "import numpy as np\n",
        "import re\n",
        "import os\n",
        "\n",
        "### For installing missingno library, type this command in terminal\n",
        "#pip install missingno\n",
        "\n",
        "import missingno as msno\n",
        "\n",
        "#Sklearn\n",
        "from sklearn.impute import SimpleImputer\n",
        "from sklearn.preprocessing import StandardScaler\n",
        "from sklearn.model_selection import train_test_split\n",
        "from sklearn.ensemble import RandomForestClassifier\n",
        "from sklearn.decomposition import PCA\n",
        "from sklearn.manifold import TSNE\n",
        "from sklearn.linear_model import LogisticRegression\n",
        "from sklearn.pipeline import Pipeline\n",
        "from sklearn.model_selection import GridSearchCV\n",
        "from sklearn.metrics import confusion_matrix, precision_score, recall_score\n",
        "\n",
        "#Plotting\n",
        "import matplotlib.pyplot as plt\n",
        "from mpl_toolkits.mplot3d import Axes3D\n",
        "import seaborn as sns\n",
        "\n",
        "#Others\n",
        "import warnings\n",
        "warnings.filterwarnings('ignore')\n",
        "\n",
        "%matplotlib inline"
      ]
    },
    {
      "cell_type": "code",
      "source": [
        "\n",
        "from google.colab import drive\n",
        "drive.mount('/content/drive')"
      ],
      "metadata": {
        "id": "sFc9NB42Ye8W",
        "colab": {
          "base_uri": "https://localhost:8080/"
        },
        "outputId": "1527b82c-0161-446e-d5a6-6e29ee41f6cb"
      },
      "execution_count": 1,
      "outputs": [
        {
          "output_type": "stream",
          "name": "stdout",
          "text": [
            "Drive already mounted at /content/drive; to attempt to forcibly remount, call drive.mount(\"/content/drive\", force_remount=True).\n"
          ]
        }
      ]
    },
    {
      "cell_type": "code",
      "source": [
        "# read the data\n",
        "filepath=\"/content/drive/MyDrive/IIITB-AIML/Telecom Churn Group Case Study/train.csv\"\n",
        "train_data= pd.read_csv(filepath)\n"
      ],
      "metadata": {
        "id": "_TOu-CXUYhE2"
      },
      "execution_count": 6,
      "outputs": []
    },
    {
      "cell_type": "code",
      "source": [
        "# Display basic information about the training data\n",
        "print(\"Shape of the training data:\", train_data.shape)\n",
        "print(\"\\nFirst few rows of the training data:\")\n",
        "print(train_data.head())"
      ],
      "metadata": {
        "id": "mqj8SOIAYQW2",
        "colab": {
          "base_uri": "https://localhost:8080/"
        },
        "outputId": "7c11376c-de94-46a7-bafc-a9e11a232e16"
      },
      "execution_count": 7,
      "outputs": [
        {
          "output_type": "stream",
          "name": "stdout",
          "text": [
            "Shape of the training data: (11652, 172)\n",
            "\n",
            "First few rows of the training data:\n",
            "   id  circle_id  loc_og_t2o_mou  std_og_t2o_mou  loc_ic_t2o_mou  \\\n",
            "0   0        109             0.0             0.0             0.0   \n",
            "1   1        109             0.0             0.0             0.0   \n",
            "2   2        109             0.0             0.0             0.0   \n",
            "3   3        109             0.0             0.0             0.0   \n",
            "4   4        109             0.0             0.0             0.0   \n",
            "\n",
            "  last_date_of_month_6 last_date_of_month_7 last_date_of_month_8   arpu_6  \\\n",
            "0            6/30/2014            7/31/2014            8/31/2014   31.277   \n",
            "1            6/30/2014            7/31/2014            8/31/2014    0.000   \n",
            "2            6/30/2014            7/31/2014            8/31/2014   60.806   \n",
            "3            6/30/2014            7/31/2014            8/31/2014  156.362   \n",
            "4            6/30/2014            7/31/2014            8/31/2014  240.708   \n",
            "\n",
            "    arpu_7  ...  sachet_3g_7  sachet_3g_8  fb_user_6  fb_user_7  fb_user_8  \\\n",
            "0   87.009  ...          0.0          0.0        NaN        NaN        NaN   \n",
            "1  122.787  ...          0.0          0.0        NaN        1.0        NaN   \n",
            "2  103.176  ...          0.0          0.0        NaN        NaN        NaN   \n",
            "3  205.260  ...          0.0          0.0        NaN        NaN        NaN   \n",
            "4  128.191  ...          1.0          0.0        1.0        1.0        1.0   \n",
            "\n",
            "      aon  aug_vbc_3g  jul_vbc_3g  jun_vbc_3g  churn_probability  \n",
            "0  1958.0         0.0         0.0         0.0                0.0  \n",
            "1   710.0         0.0         0.0         0.0                0.0  \n",
            "2   882.0         0.0         0.0         0.0                0.0  \n",
            "3   982.0         0.0         0.0         0.0                0.0  \n",
            "4   647.0         0.0         0.0         0.0                0.0  \n",
            "\n",
            "[5 rows x 172 columns]\n"
          ]
        }
      ]
    },
    {
      "cell_type": "code",
      "source": [
        "# Display basic information about the data\n",
        "print(\"\\nData Info:\")\n",
        "print(train_data.info())"
      ],
      "metadata": {
        "colab": {
          "base_uri": "https://localhost:8080/"
        },
        "id": "NuL4tWkucO19",
        "outputId": "c9b0873a-9eee-4d7c-fa63-a7d6e40ef126"
      },
      "execution_count": 8,
      "outputs": [
        {
          "output_type": "stream",
          "name": "stdout",
          "text": [
            "\n",
            "Data Info:\n",
            "<class 'pandas.core.frame.DataFrame'>\n",
            "RangeIndex: 11652 entries, 0 to 11651\n",
            "Columns: 172 entries, id to churn_probability\n",
            "dtypes: float64(161), int64(2), object(9)\n",
            "memory usage: 15.3+ MB\n",
            "None\n"
          ]
        }
      ]
    },
    {
      "cell_type": "code",
      "source": [
        "# Describe the training data (numerical columns)\n",
        "print(\"\\nDescriptive statistics for numerical columns:\")\n",
        "print(train_data.describe())"
      ],
      "metadata": {
        "colab": {
          "base_uri": "https://localhost:8080/"
        },
        "id": "mwNfUgXLcY_g",
        "outputId": "5dfa0ca4-1b99-4cbd-e3af-1e7bd12b2048"
      },
      "execution_count": 9,
      "outputs": [
        {
          "output_type": "stream",
          "name": "stdout",
          "text": [
            "\n",
            "Descriptive statistics for numerical columns:\n",
            "                 id  circle_id  loc_og_t2o_mou  std_og_t2o_mou  \\\n",
            "count  11652.000000    11652.0         11529.0         11529.0   \n",
            "mean    5825.500000      109.0             0.0             0.0   \n",
            "std     3363.787003        0.0             0.0             0.0   \n",
            "min        0.000000      109.0             0.0             0.0   \n",
            "25%     2912.750000      109.0             0.0             0.0   \n",
            "50%     5825.500000      109.0             0.0             0.0   \n",
            "75%     8738.250000      109.0             0.0             0.0   \n",
            "max    11651.000000      109.0             0.0             0.0   \n",
            "\n",
            "       loc_ic_t2o_mou        arpu_6        arpu_7        arpu_8   onnet_mou_6  \\\n",
            "count         11529.0  11652.000000  11652.000000  11652.000000  11181.000000   \n",
            "mean              0.0    278.645233    272.108095    274.089862    129.351097   \n",
            "std               0.0    303.971079    285.330325    293.805635    283.783235   \n",
            "min               0.0  -2041.228000  -1289.715000   -945.808000      0.000000   \n",
            "25%               0.0     94.930250     85.949000     84.119250      7.140000   \n",
            "50%               0.0    198.405500    191.223000    193.582000     33.940000   \n",
            "75%               0.0    365.717250    364.580500    366.275000    116.140000   \n",
            "max               0.0  11505.508000   4155.770000   5748.252000   4549.890000   \n",
            "\n",
            "        onnet_mou_7  ...   sachet_3g_7   sachet_3g_8    fb_user_6  \\\n",
            "count  11192.000000  ...  11651.000000  11651.000000  2882.000000   \n",
            "mean     130.489383  ...      0.073728      0.077075     0.908397   \n",
            "std      296.686573  ...      0.502668      0.623075     0.288515   \n",
            "min        0.000000  ...      0.000000      0.000000     0.000000   \n",
            "25%        6.730000  ...      0.000000      0.000000     1.000000   \n",
            "50%       32.325000  ...      0.000000      0.000000     1.000000   \n",
            "75%      114.120000  ...      0.000000      0.000000     1.000000   \n",
            "max     5833.710000  ...     15.000000     41.000000     1.000000   \n",
            "\n",
            "         fb_user_7    fb_user_8           aon    aug_vbc_3g    jul_vbc_3g  \\\n",
            "count  2995.000000  3021.000000  11651.000000  11651.000000  11651.000000   \n",
            "mean      0.907513     0.881496   1211.519269     66.753751     65.775078   \n",
            "std       0.289761     0.323257    939.348498    279.491717    270.203969   \n",
            "min       0.000000     0.000000    180.000000      0.000000      0.000000   \n",
            "25%       1.000000     1.000000    470.000000      0.000000      0.000000   \n",
            "50%       1.000000     1.000000    868.000000      0.000000      0.000000   \n",
            "75%       1.000000     1.000000   1782.500000      0.000000      0.000000   \n",
            "max       1.000000     1.000000   4321.000000  12916.220000   7237.780000   \n",
            "\n",
            "         jun_vbc_3g  churn_probability  \n",
            "count  11651.000000       11651.000000  \n",
            "mean      58.402342           0.103167  \n",
            "std      246.546228           0.304190  \n",
            "min        0.000000           0.000000  \n",
            "25%        0.000000           0.000000  \n",
            "50%        0.000000           0.000000  \n",
            "75%        0.000000           0.000000  \n",
            "max     6826.990000           1.000000  \n",
            "\n",
            "[8 rows x 163 columns]\n"
          ]
        }
      ]
    },
    {
      "cell_type": "code",
      "source": [
        "# Check for unique values in each column\n",
        "print(\"\\nUnique values in each column:\")\n",
        "for col in train_data.columns:\n",
        "    print(f\"{col}: {train_data[col].nunique()}\")\n",
        ""
      ],
      "metadata": {
        "colab": {
          "base_uri": "https://localhost:8080/"
        },
        "id": "LN0pidXickTn",
        "outputId": "33532f64-f2b1-4191-bf6e-01b80e39397a"
      },
      "execution_count": 10,
      "outputs": [
        {
          "output_type": "stream",
          "name": "stdout",
          "text": [
            "\n",
            "Unique values in each column:\n",
            "id: 11652\n",
            "circle_id: 1\n",
            "loc_og_t2o_mou: 1\n",
            "std_og_t2o_mou: 1\n",
            "loc_ic_t2o_mou: 1\n",
            "last_date_of_month_6: 1\n",
            "last_date_of_month_7: 1\n",
            "last_date_of_month_8: 1\n",
            "arpu_6: 10913\n",
            "arpu_7: 10890\n",
            "arpu_8: 10680\n",
            "onnet_mou_6: 6557\n",
            "onnet_mou_7: 6471\n",
            "onnet_mou_8: 6340\n",
            "offnet_mou_6: 8457\n",
            "offnet_mou_7: 8426\n",
            "offnet_mou_8: 8227\n",
            "roam_ic_mou_6: 1604\n",
            "roam_ic_mou_7: 1275\n",
            "roam_ic_mou_8: 1195\n",
            "roam_og_mou_6: 1842\n",
            "roam_og_mou_7: 1428\n",
            "roam_og_mou_8: 1376\n",
            "loc_og_t2t_mou_6: 4495\n",
            "loc_og_t2t_mou_7: 4470\n",
            "loc_og_t2t_mou_8: 4427\n",
            "loc_og_t2m_mou_6: 6643\n",
            "loc_og_t2m_mou_7: 6589\n",
            "loc_og_t2m_mou_8: 6520\n",
            "loc_og_t2f_mou_6: 1456\n",
            "loc_og_t2f_mou_7: 1470\n",
            "loc_og_t2f_mou_8: 1460\n",
            "loc_og_t2c_mou_6: 878\n",
            "loc_og_t2c_mou_7: 970\n",
            "loc_og_t2c_mou_8: 981\n",
            "loc_og_mou_6: 7518\n",
            "loc_og_mou_7: 7489\n",
            "loc_og_mou_8: 7388\n",
            "std_og_t2t_mou_6: 3834\n",
            "std_og_t2t_mou_7: 3847\n",
            "std_og_t2t_mou_8: 3799\n",
            "std_og_t2m_mou_6: 4697\n",
            "std_og_t2m_mou_7: 4705\n",
            "std_og_t2m_mou_8: 4622\n",
            "std_og_t2f_mou_6: 723\n",
            "std_og_t2f_mou_7: 678\n",
            "std_og_t2f_mou_8: 682\n",
            "std_og_t2c_mou_6: 1\n",
            "std_og_t2c_mou_7: 1\n",
            "std_og_t2c_mou_8: 1\n",
            "std_og_mou_6: 5716\n",
            "std_og_mou_7: 5704\n",
            "std_og_mou_8: 5604\n",
            "isd_og_mou_6: 294\n",
            "isd_og_mou_7: 296\n",
            "isd_og_mou_8: 281\n",
            "spl_og_mou_6: 1619\n",
            "spl_og_mou_7: 1824\n",
            "spl_og_mou_8: 1791\n",
            "og_others_6: 505\n",
            "og_others_7: 40\n",
            "og_others_8: 43\n",
            "total_og_mou_6: 8957\n",
            "total_og_mou_7: 9052\n",
            "total_og_mou_8: 8880\n",
            "loc_ic_t2t_mou_6: 4711\n",
            "loc_ic_t2t_mou_7: 4771\n",
            "loc_ic_t2t_mou_8: 4719\n",
            "loc_ic_t2m_mou_6: 7179\n",
            "loc_ic_t2m_mou_7: 7223\n",
            "loc_ic_t2m_mou_8: 7205\n",
            "loc_ic_t2f_mou_6: 2472\n",
            "loc_ic_t2f_mou_7: 2490\n",
            "loc_ic_t2f_mou_8: 2428\n",
            "loc_ic_mou_6: 8173\n",
            "loc_ic_mou_7: 8216\n",
            "loc_ic_mou_8: 8098\n",
            "std_ic_t2t_mou_6: 2084\n",
            "std_ic_t2t_mou_7: 2107\n",
            "std_ic_t2t_mou_8: 2085\n",
            "std_ic_t2m_mou_6: 3099\n",
            "std_ic_t2m_mou_7: 3202\n",
            "std_ic_t2m_mou_8: 3121\n",
            "std_ic_t2f_mou_6: 993\n",
            "std_ic_t2f_mou_7: 986\n",
            "std_ic_t2f_mou_8: 999\n",
            "std_ic_t2o_mou_6: 1\n",
            "std_ic_t2o_mou_7: 1\n",
            "std_ic_t2o_mou_8: 1\n",
            "std_ic_mou_6: 3849\n",
            "std_ic_mou_7: 3904\n",
            "std_ic_mou_8: 3898\n",
            "total_ic_mou_6: 8620\n",
            "total_ic_mou_7: 8633\n",
            "total_ic_mou_8: 8604\n",
            "spl_ic_mou_6: 73\n",
            "spl_ic_mou_7: 85\n",
            "spl_ic_mou_8: 78\n",
            "isd_ic_mou_6: 1219\n",
            "isd_ic_mou_7: 1310\n",
            "isd_ic_mou_8: 1257\n",
            "ic_others_6: 570\n",
            "ic_others_7: 619\n",
            "ic_others_8: 597\n",
            "total_rech_num_6: 63\n",
            "total_rech_num_7: 62\n",
            "total_rech_num_8: 66\n",
            "total_rech_amt_6: 1301\n",
            "total_rech_amt_7: 1309\n",
            "total_rech_amt_8: 1324\n",
            "max_rech_amt_6: 142\n",
            "max_rech_amt_7: 138\n",
            "max_rech_amt_8: 145\n",
            "date_of_last_rech_6: 30\n",
            "date_of_last_rech_7: 31\n",
            "date_of_last_rech_8: 31\n",
            "last_day_rch_amt_6: 128\n",
            "last_day_rch_amt_7: 128\n",
            "last_day_rch_amt_8: 141\n",
            "date_of_last_rech_data_6: 30\n",
            "date_of_last_rech_data_7: 31\n",
            "date_of_last_rech_data_8: 31\n",
            "total_rech_data_6: 24\n",
            "total_rech_data_7: 25\n",
            "total_rech_data_8: 24\n",
            "max_rech_data_6: 39\n",
            "max_rech_data_7: 40\n",
            "max_rech_data_8: 42\n",
            "count_rech_2g_6: 23\n",
            "count_rech_2g_7: 22\n",
            "count_rech_2g_8: 21\n",
            "count_rech_3g_6: 15\n",
            "count_rech_3g_7: 14\n",
            "count_rech_3g_8: 13\n",
            "av_rech_amt_data_6: 371\n",
            "av_rech_amt_data_7: 388\n",
            "av_rech_amt_data_8: 385\n",
            "vol_2g_mb_6: 2335\n",
            "vol_2g_mb_7: 2374\n",
            "vol_2g_mb_8: 2334\n",
            "vol_3g_mb_6: 1642\n",
            "vol_3g_mb_7: 1777\n",
            "vol_3g_mb_8: 1810\n",
            "arpu_3g_6: 1099\n",
            "arpu_3g_7: 1109\n",
            "arpu_3g_8: 1177\n",
            "arpu_2g_6: 1219\n",
            "arpu_2g_7: 1208\n",
            "arpu_2g_8: 1166\n",
            "night_pck_user_6: 2\n",
            "night_pck_user_7: 2\n",
            "night_pck_user_8: 2\n",
            "monthly_2g_6: 5\n",
            "monthly_2g_7: 5\n",
            "monthly_2g_8: 6\n",
            "sachet_2g_6: 23\n",
            "sachet_2g_7: 22\n",
            "sachet_2g_8: 21\n",
            "monthly_3g_6: 6\n",
            "monthly_3g_7: 7\n",
            "monthly_3g_8: 8\n",
            "sachet_3g_6: 14\n",
            "sachet_3g_7: 14\n",
            "sachet_3g_8: 13\n",
            "fb_user_6: 2\n",
            "fb_user_7: 2\n",
            "fb_user_8: 2\n",
            "aon: 2778\n",
            "aug_vbc_3g: 1870\n",
            "jul_vbc_3g: 1793\n",
            "jun_vbc_3g: 1696\n",
            "churn_probability: 2\n"
          ]
        }
      ]
    }
  ]
}